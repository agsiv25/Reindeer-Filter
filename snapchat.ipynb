{
 "cells": [
  {
   "cell_type": "code",
   "execution_count": 2,
   "metadata": {},
   "outputs": [],
   "source": [
    "import cv2\n",
    "import numpy as np\n",
    "import dlib\n",
    "from math import hypot"
   ]
  },
  {
   "cell_type": "code",
   "execution_count": null,
   "metadata": {},
   "outputs": [
    {
     "name": "stdout",
     "output_type": "stream",
     "text": [
      "(98, 100, 3)\n",
      "(368, 610, 3)\n"
     ]
    }
   ],
   "source": [
    "cap = cv2.VideoCapture(0)\n",
    "rednose = cv2.imread(\"rednose.png\")\n",
    "antlers = cv2.imread(\"antlers.png\")\n",
    "detector = dlib.get_frontal_face_detector()\n",
    "predictor = dlib.shape_predictor(\"shape_predictor_68_face_landmarks.dat\")\n",
    "print(rednose.shape)\n",
    "print(antlers.shape)\n",
    "\n",
    "while True:\n",
    "    ret, frame = cap.read()\n",
    "    gray_frame = cv2.cvtColor(frame, cv2.COLOR_BGR2GRAY)\n",
    "    faces = detector(frame)\n",
    "    for face in faces:\n",
    "        landmarks = predictor(gray_frame, face)\n",
    "        topnose = (landmarks.part(29).x, landmarks.part(29).y)\n",
    "        centernose = (landmarks.part(30).x, landmarks.part(30).y)\n",
    "        leftnose = (landmarks.part(31).x, landmarks.part(31).y)\n",
    "        rightnose = (landmarks.part(35).x, landmarks.part(35).y)\n",
    "        midbrow = (landmarks.part(34).x, landmarks.part(23).y)\n",
    "        botnose = (landmarks.part(34).x, landmarks.part(34).y)\n",
    "        forehead = int(hypot(midbrow[0] - botnose[0],midbrow[1] - botnose[1]))\n",
    "        tophead = (landmarks.part(34).x, int(landmarks.part(23).y + forehead))\n",
    "        righthead = (landmarks.part(1).x, landmarks.part(1).y)\n",
    "        lefthead = (landmarks.part(17).x, landmarks.part(17).y)\n",
    "        midantler = (landmarks.part(34).x, (int(landmarks.part(23).y + forehead) + forehead))\n",
    "        antlerwidth = int((hypot(lefthead[0] - righthead[0], lefthead[1] - righthead[1]))*5)\n",
    "        antlerheight = int(antlerwidth*0.6)\n",
    "        nosewidth = int(hypot(leftnose[0] - rightnose[0],leftnose[1] - rightnose[1]))\n",
    "        noseheight = nosewidth\n",
    "        toplefta = (int(midantler[0] - antlerwidth/2), int(midantler[1] - antlerheight/2))\n",
    "        botrighta = (int(midantler[0] + antlerwidth/2), int(midantler[1] + antlerheight/2))\n",
    "        topleft = (int(centernose[0] - nosewidth/2), int(centernose[1] - noseheight/2))\n",
    "        botright = (int(centernose[0] + nosewidth/2), int(centernose[1] + noseheight/2))\n",
    "        nosearea = frame[topleft[1]:topleft[1] + noseheight, topleft[0]:topleft[0] + nosewidth]\n",
    "        antlerarea = frame[toplefta[1]:toplefta[1] + antlerheight, toplefta[0]:toplefta[0] + antlerwidth]\n",
    "        nosered = cv2.resize(rednose, (nosewidth, noseheight))\n",
    "        antlernew = cv2.resize(antlers, (antlerwidth, antlerheight))\n",
    "        noseredgray = cv2.cvtColor(nosered, cv2.COLOR_BGR2GRAY)\n",
    "        antlernewgray = cv2.cvtColor(antlernew, cv2.COLOR_BGR2GRAY)\n",
    "        _, nosemask = cv2.threshold(noseredgray, 25, 255, cv2.THRESH_BINARY_INV)\n",
    "        _, antlermask = cv2.threshold(antlernewgray, 25, 255, cv2.THRESH_BINARY_INV)\n",
    "        nonose = cv2.bitwise_and(nosearea, nosearea, mask = nosemask)\n",
    "        noantler = cv2.bitwise_and(antlerarea, antlerarea, mask = antlermask)\n",
    "        finalnose = cv2.add(nonose, nosered)\n",
    "        finalantler = cv2.add(noantler, antlernew)\n",
    "        frame[topleft[1]:topleft[1] + noseheight, topleft[0]:topleft[0] + nosewidth] = finalnose\n",
    "        frame[toplefta[1]:toplefta[1] + antlerheight, toplefta[0]:toplefta[0] + antlerwidth] = finalantler\n",
    "    cv2.imshow('frame', frame)\n",
    "    if cv2.waitKey(1) == ord('q'):\n",
    "        break\n",
    "cap.release()\n",
    "cv2.destroyAllWindows()"
   ]
  },
  {
   "cell_type": "code",
   "execution_count": null,
   "metadata": {},
   "outputs": [],
   "source": []
  },
  {
   "cell_type": "code",
   "execution_count": null,
   "metadata": {},
   "outputs": [],
   "source": []
  }
 ],
 "metadata": {
  "kernelspec": {
   "display_name": "Python [conda env:opencv]",
   "language": "python",
   "name": "conda-env-opencv-py"
  },
  "language_info": {
   "codemirror_mode": {
    "name": "ipython",
    "version": 3
   },
   "file_extension": ".py",
   "mimetype": "text/x-python",
   "name": "python",
   "nbconvert_exporter": "python",
   "pygments_lexer": "ipython3",
   "version": "3.9.6"
  }
 },
 "nbformat": 4,
 "nbformat_minor": 4
}
